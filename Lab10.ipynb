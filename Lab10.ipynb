{
 "cells": [
  {
   "cell_type": "markdown",
   "metadata": {},
   "source": [
    "### Домашнее задание №10 по курсу \"Машинное обучение\"\n",
    "Головач Андрей"
   ]
  },
  {
   "cell_type": "markdown",
   "metadata": {},
   "source": [
    "### Задание 1"
   ]
  },
  {
   "cell_type": "code",
   "execution_count": 7,
   "metadata": {
    "collapsed": false
   },
   "outputs": [
    {
     "name": "stdout",
     "output_type": "stream",
     "text": [
      "Minimal validation error is 0.05934065934065934 for k = 14\n",
      "Appropriate test error is 0.3333333333333333\n"
     ]
    },
    {
     "data": {
      "image/png": "[encoded data removed]",
      "text/plain": [
       "<matplotlib.figure.Figure at 0x85f1b38>"
      ]
     },
     "metadata": {},
     "output_type": "display_data"
    }
   ],
   "source": [
    "import csv\n",
    "import operator\n",
    "import math\n",
    "import numpy\n",
    "import matplotlib.pyplot as plt\n",
    "\n",
    "def load_dataset(filename, split):\n",
    "    with open(filename, 'r') as csvfile:\n",
    "        lines = csv.reader(csvfile)\n",
    "        dataset = list(lines)\n",
    "        numpy.random.shuffle(dataset)\n",
    "        for i in range(len(dataset)):\n",
    "            for j in range(4):\n",
    "                dataset[i][j] = float(dataset[i][j])\n",
    "\n",
    "    training_set_length = int(len(dataset) * split)\n",
    "    return (normalize(dataset[:training_set_length]), normalize(dataset[training_set_length:]))\n",
    "\n",
    "\n",
    "def distance(instance1, instance2, length):\n",
    "    distance = 0\n",
    "    for x in range(length - 1):\n",
    "        distance += pow((float(instance1[x]) - float(instance2[x])), 2)\n",
    "    return math.sqrt(distance)\n",
    "\n",
    "\n",
    "def get_nearest_neighbors(training_set, test_instance, k):\n",
    "    distances = []\n",
    "    length = len(test_instance)-1\n",
    "\n",
    "    for x in range(len(training_set)):\n",
    "        dist = distance(test_instance, training_set[x], length)\n",
    "        distances.append((training_set[x], dist))\n",
    "\n",
    "    distances.sort(key=operator.itemgetter(1))\n",
    "    neighbors = []\n",
    "    for x in range(k):\n",
    "        neighbors.append(distances[x][0])\n",
    "\n",
    "    return neighbors\n",
    "\n",
    "\n",
    "def get_prediction(neighbors):\n",
    "    class_votes = {}\n",
    "    for x in range(len(neighbors)):\n",
    "        response = neighbors[x][-1]\n",
    "        if response in class_votes:\n",
    "            class_votes[response] += 1\n",
    "        else:\n",
    "            class_votes[response] = 1\n",
    "    sorted_votes = sorted(class_votes.items(), key=operator.itemgetter(1), reverse=True)\n",
    "    return sorted_votes[0][0]\n",
    "\n",
    "\n",
    "def get_error_rate(test_set, predictions):\n",
    "    error_rate = 0.0\n",
    "    for test_instance, prediction in zip(test_set, predictions):\n",
    "        error_rate += (prediction != test_instance[4])\n",
    "    return error_rate / len(test_set)\n",
    "\n",
    "def k_fold_tune(k, training_set, k_for_knn):\n",
    "    numpy.random.shuffle(training_set)\n",
    "    splits = numpy.array_split(training_set, k)\n",
    "    train_risk = []\n",
    "    validation_risk = []\n",
    "\n",
    "    for t in range(k):\n",
    "        validation_split = splits[t]\n",
    "        train_split = numpy.concatenate(numpy.delete(splits, t))\n",
    "\n",
    "        predictions=test(validation_split, train_split, k_for_knn)\n",
    "        validation_risk.append(get_error_rate(validation_split, predictions))\n",
    "\n",
    "    return sum(validation_risk) / k\n",
    "\n",
    "\n",
    "def normalize(dataset):\n",
    "    features, labels = [list(x[:4]) for x in dataset], [x[4] for x in dataset]\n",
    "    features_array = numpy.array(features)\n",
    "    features = list((features_array - features_array.min(0)) / features_array.ptp(0))\n",
    "    return [list(x) + [y] for x,y in zip(features, labels)]\n",
    "\n",
    "\n",
    "def test(test_set, training_set, k):\n",
    "    predictions=[]\n",
    "    for x in range(len(test_set)):\n",
    "        neighbors = get_nearest_neighbors(training_set, test_set[x], k)\n",
    "        result = get_prediction(neighbors)\n",
    "        predictions.append(result)\n",
    "    return predictions\n",
    "\n",
    "if __name__ == \"__main__\":\n",
    "    split = 0.9\n",
    "    training_set, test_set = load_dataset('iris.data', split)\n",
    "\n",
    "    validation_error_list={}\n",
    "    test_error_list = {}\n",
    "\n",
    "    for k_for_knn in range(1, 100):\n",
    "        avg_validation_error = k_fold_tune(10, training_set, k_for_knn)\n",
    "\n",
    "        predictions = test(test_set, training_set, k_for_knn)\n",
    "        test_error = get_error_rate(test_set, predictions)\n",
    "\n",
    "        validation_error_list[k_for_knn] = avg_validation_error\n",
    "        test_error_list[k_for_knn] = test_error\n",
    "\n",
    "    minimal_error_k = min(validation_error_list, key = lambda x: validation_error_list.get(x))\n",
    "    \n",
    "    print(\"Minimal validation error is {} for k = {}\".format(validation_error_list[minimal_error_k], minimal_error_k))\n",
    "    print(\"Appropriate test error is {}\".format(test_error_list[minimal_error_k]))\n",
    "\n",
    "\n",
    "    x = [i for i in range(1, 100)]\n",
    "    y1 = list(validation_error_list.values())\n",
    "    y2 = list(test_error_list.values())\n",
    "\n",
    "    plt.plot(x, y1, label=\"Error on validation set\")\n",
    "    plt.plot(x, y2, label=\"Error on test set\")\n",
    "    \n",
    "    plt.legend(bbox_to_anchor=(1.05, 1), loc=2, borderaxespad=0., title=\"Error rates\")\n",
    "    \n",
    "    plt.show()"
   ]
  },
  {
   "cell_type": "markdown",
   "metadata": {
    "collapsed": true
   },
   "source": [
    "### Задание 2"
   ]
  },
  {
   "cell_type": "markdown",
   "metadata": {},
   "source": [
    "Проблема \"Проклятия размерности\" состоит в том, что при увеличении размерноссти пространства размер обучающей выборки должен расти экспоненциально, так как при недостаточно большой обучающей выборке велика вероятность переобучения.\n",
    "Для того, чтобы бороться с \"проклятием размерности\", как вариант, можно выбрать наиболее приоритетные характеристики изучаемых объектов и продолжить обучение уже в пространстве меньшей размерности.\n",
    "Также для преодоления данной проблемы можно использовать кластеризацию и методы понижения размерности, такие, как multidimentional scaling, переводящий выборку в пространство меньшей размерности, сохраняя расстояния между объектами, с помощью матрицы расстояний. "
   ]
  },
  {
   "cell_type": "code",
   "execution_count": null,
   "metadata": {
    "collapsed": true
   },
   "outputs": [],
   "source": []
  }
 ],
 "metadata": {
  "kernelspec": {
   "display_name": "Python 3",
   "language": "python",
   "name": "python3"
  },
  "language_info": {
   "codemirror_mode": {
    "name": "ipython",
    "version": 3
   },
   "file_extension": ".py",
   "mimetype": "text/x-python",
   "name": "python",
   "nbconvert_exporter": "python",
   "pygments_lexer": "ipython3",
   "version": "3.6.1"
  }
 },
 "nbformat": 4,
 "nbformat_minor": 2
}
